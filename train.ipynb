{
  "nbformat": 4,
  "nbformat_minor": 0,
  "metadata": {
    "orig_nbformat": 4,
    "language_info": {
      "name": "python",
      "version": "3.7.6",
      "mimetype": "text/x-python",
      "codemirror_mode": {
        "name": "ipython",
        "version": 3
      },
      "pygments_lexer": "ipython3",
      "nbconvert_exporter": "python",
      "file_extension": ".py"
    },
    "kernelspec": {
      "name": "python3",
      "display_name": "Python 3.7.6 64-bit ('kaoon': venv)"
    },
    "interpreter": {
      "hash": "695239d6121050fe658a285d3eddc2aa2dba836df8025f4e5fc08023da28a787"
    },
    "colab": {
      "provenance": []
    }
  },
  "cells": [
    {
      "cell_type": "markdown",
      "metadata": {
        "id": "_iyLoTdZy-KD"
      },
      "source": [
        "最適化したパラメータでモデル構築"
      ]
    },
    {
      "cell_type": "code",
      "metadata": {
        "id": "SEG-XO2gy-KG"
      },
      "source": [
        "import numpy as np\n",
        "import tensorflow as tf\n",
        "from tensorflow.keras import Sequential\n",
        "from tensorflow.keras.layers import Conv2D\n",
        "from tensorflow.keras.layers import MaxPool2D\n",
        "from tensorflow.keras.layers import Dense\n",
        "from tensorflow.keras.layers import Dropout\n",
        "from tensorflow.keras.layers import Flatten"
      ],
      "execution_count": null,
      "outputs": []
    },
    {
      "cell_type": "code",
      "metadata": {
        "id": "djd8qySvy-KG"
      },
      "source": [
        "# CIFER-10データセット読み込み\n",
        "(x_train, y_train), (x_test, y_test) = tf.keras.datasets.cifar10.load_data()\n",
        "\n",
        "# データ正規化\n",
        "x_train = x_train.astype(\"float32\") / 255.0\n",
        "x_train = np.reshape(x_train, (-1, 32, 32, 3))\n",
        "\n",
        "x_test = x_test.astype(\"float32\") / 255.0\n",
        "x_test = np.reshape(x_test, (-1, 32, 32, 3))"
      ],
      "execution_count": null,
      "outputs": []
    },
    {
      "cell_type": "code",
      "metadata": {
        "id": "ifLnhdSfy-KH"
      },
      "source": [
        "# モデル構築\n",
        "model = Sequential()\n",
        "\n",
        "model.add(Conv2D(filters=80, kernel_size=(3, 3), strides=(1, 1), activation='relu', padding=\"same\", input_shape=(32, 32, 3)))\n",
        "model.add(MaxPool2D(pool_size=(2, 2), strides=None))\n",
        "model.add(Dropout(rate=0.4916904519518987))\n",
        "model.add(Conv2D(filters=48, kernel_size=(3, 3), strides=(1, 1), activation='relu', padding=\"same\"))\n",
        "model.add(MaxPool2D(pool_size=(2, 2), strides=None))\n",
        "model.add(Dropout(rate=0.4916904519518987))\n",
        "model.add(Conv2D(filters=80, kernel_size=(3, 3), strides=(1, 1), activation='relu', padding=\"same\"))\n",
        "model.add(MaxPool2D(pool_size=(2, 2), strides=None))\n",
        "model.add(Dropout(rate=0.4916904519518987))\n",
        "model.add(Dense(100, activation=\"relu\"))\n",
        "model.add(Flatten())\n",
        "model.add(Dense(units=10, activation='softmax'))"
      ],
      "execution_count": null,
      "outputs": []
    },
    {
      "cell_type": "code",
      "metadata": {
        "colab": {
          "base_uri": "https://localhost:8080/"
        },
        "id": "I4k-DepKy-KI",
        "outputId": "7ce477da-530f-42d2-eefc-a10cf1576ad8"
      },
      "source": [
        "model.summary()"
      ],
      "execution_count": null,
      "outputs": [
        {
          "output_type": "stream",
          "text": [
            "Model: \"sequential\"\n",
            "_________________________________________________________________\n",
            "Layer (type)                 Output Shape              Param #   \n",
            "=================================================================\n",
            "conv2d (Conv2D)              (None, 32, 32, 80)        2240      \n",
            "_________________________________________________________________\n",
            "max_pooling2d (MaxPooling2D) (None, 16, 16, 80)        0         \n",
            "_________________________________________________________________\n",
            "dropout (Dropout)            (None, 16, 16, 80)        0         \n",
            "_________________________________________________________________\n",
            "conv2d_1 (Conv2D)            (None, 16, 16, 48)        34608     \n",
            "_________________________________________________________________\n",
            "max_pooling2d_1 (MaxPooling2 (None, 8, 8, 48)          0         \n",
            "_________________________________________________________________\n",
            "dropout_1 (Dropout)          (None, 8, 8, 48)          0         \n",
            "_________________________________________________________________\n",
            "conv2d_2 (Conv2D)            (None, 8, 8, 80)          34640     \n",
            "_________________________________________________________________\n",
            "max_pooling2d_2 (MaxPooling2 (None, 4, 4, 80)          0         \n",
            "_________________________________________________________________\n",
            "dropout_2 (Dropout)          (None, 4, 4, 80)          0         \n",
            "_________________________________________________________________\n",
            "dense (Dense)                (None, 4, 4, 100)         8100      \n",
            "_________________________________________________________________\n",
            "flatten (Flatten)            (None, 1600)              0         \n",
            "_________________________________________________________________\n",
            "dense_1 (Dense)              (None, 10)                16010     \n",
            "=================================================================\n",
            "Total params: 95,598\n",
            "Trainable params: 95,598\n",
            "Non-trainable params: 0\n",
            "_________________________________________________________________\n"
          ],
          "name": "stdout"
        }
      ]
    },
    {
      "cell_type": "code",
      "metadata": {
        "id": "hjivBuy-y-KI"
      },
      "source": [
        "model.compile(\n",
        "    optimizer=tf.keras.optimizers.SGD(),\n",
        "    loss=tf.keras.losses.SparseCategoricalCrossentropy(from_logits=True),\n",
        "    metrics=[\"acc\"],\n",
        ")\n"
      ],
      "execution_count": null,
      "outputs": []
    },
    {
      "cell_type": "code",
      "metadata": {
        "id": "AlIDg-Sxy-KI"
      },
      "source": [
        "model.fit(x_train, y_train, epochs=10, validation_data=(x_test, y_test))"
      ],
      "execution_count": null,
      "outputs": []
    },
    {
      "cell_type": "code",
      "metadata": {
        "id": "6I4OAyI_y-KJ"
      },
      "source": [],
      "execution_count": null,
      "outputs": []
    }
  ]
}